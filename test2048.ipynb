{
 "cells": [
  {
   "cell_type": "code",
   "execution_count": 1,
   "metadata": {},
   "outputs": [],
   "source": [
    "from selenium2048 import Selenium2048\n",
    "from stable_baselines3.common.vec_env.dummy_vec_env import DummyVecEnv\n",
    "from stable_baselines3.common.evaluation import evaluate_policy\n",
    "from stable_baselines3.common.monitor import Monitor\n",
    "from sb3_contrib import MaskablePPO\n",
    "from sb3_contrib.common.wrappers import ActionMasker\n",
    "\n",
    "\n",
    "# env = ActionMasker(env, MinesweeperEnv.get_action_mask)\n",
    "# env = DummyVecEnv([lambda: env])\n",
    "\n",
    "env = Selenium2048()"
   ]
  },
  {
   "cell_type": "code",
   "execution_count": 7,
   "metadata": {},
   "outputs": [
    {
     "ename": "StaleElementReferenceException",
     "evalue": "Message: stale element reference: stale element not found\n  (Session info: chrome=119.0.6045.105); For documentation on this error, please visit: https://www.selenium.dev/documentation/webdriver/troubleshooting/errors#stale-element-reference-exception\nStacktrace:\n#0 0x55bd5d8155e3 <unknown>\n#1 0x55bd5d4d80b7 <unknown>\n#2 0x55bd5d4de2b5 <unknown>\n#3 0x55bd5d4e09b1 <unknown>\n#4 0x55bd5d56971f <unknown>\n#5 0x55bd5d54cef2 <unknown>\n#6 0x55bd5d568b3d <unknown>\n#7 0x55bd5d54ccc3 <unknown>\n#8 0x55bd5d5180e4 <unknown>\n#9 0x55bd5d5190ae <unknown>\n#10 0x55bd5d7dbce1 <unknown>\n#11 0x55bd5d7dfb7e <unknown>\n#12 0x55bd5d7c94b5 <unknown>\n#13 0x55bd5d7e07d6 <unknown>\n#14 0x55bd5d7acdbf <unknown>\n#15 0x55bd5d803748 <unknown>\n#16 0x55bd5d803917 <unknown>\n#17 0x55bd5d814773 <unknown>\n#18 0x7f9947f2c9eb <unknown>\n",
     "output_type": "error",
     "traceback": [
      "\u001b[0;31m---------------------------------------------------------------------------\u001b[0m",
      "\u001b[0;31mStaleElementReferenceException\u001b[0m            Traceback (most recent call last)",
      "\u001b[1;32m/home/kinomoto/RL_mineSweeper/test2048.ipynb 单元格 2\u001b[0m line \u001b[0;36m9\n\u001b[1;32m      <a href='vscode-notebook-cell:/home/kinomoto/RL_mineSweeper/test2048.ipynb#W1sZmlsZQ%3D%3D?line=5'>6</a>\u001b[0m \u001b[39mwhile\u001b[39;00m \u001b[39mnot\u001b[39;00m done:\n\u001b[1;32m      <a href='vscode-notebook-cell:/home/kinomoto/RL_mineSweeper/test2048.ipynb#W1sZmlsZQ%3D%3D?line=6'>7</a>\u001b[0m     action, _ \u001b[39m=\u001b[39m model\u001b[39m.\u001b[39mpredict(observation\u001b[39m=\u001b[39mstate)\n\u001b[0;32m----> <a href='vscode-notebook-cell:/home/kinomoto/RL_mineSweeper/test2048.ipynb#W1sZmlsZQ%3D%3D?line=8'>9</a>\u001b[0m     state, reward, done, _, info \u001b[39m=\u001b[39m env\u001b[39m.\u001b[39;49mstep(action)\n\u001b[1;32m     <a href='vscode-notebook-cell:/home/kinomoto/RL_mineSweeper/test2048.ipynb#W1sZmlsZQ%3D%3D?line=9'>10</a>\u001b[0m     score \u001b[39m+\u001b[39m\u001b[39m=\u001b[39m reward\n\u001b[1;32m     <a href='vscode-notebook-cell:/home/kinomoto/RL_mineSweeper/test2048.ipynb#W1sZmlsZQ%3D%3D?line=10'>11</a>\u001b[0m \u001b[39mprint\u001b[39m(env\u001b[39m.\u001b[39mmap)\n",
      "File \u001b[0;32m~/RL_mineSweeper/selenium2048.py:67\u001b[0m, in \u001b[0;36mSelenium2048.step\u001b[0;34m(self, action)\u001b[0m\n\u001b[1;32m     64\u001b[0m \u001b[39mif\u001b[39;00m action \u001b[39m==\u001b[39m \u001b[39m3\u001b[39m:\n\u001b[1;32m     65\u001b[0m     body_element\u001b[39m.\u001b[39msend_keys(Keys\u001b[39m.\u001b[39mARROW_DOWN)\n\u001b[0;32m---> 67\u001b[0m new_rew \u001b[39m=\u001b[39m np\u001b[39m.\u001b[39msort(\u001b[39mself\u001b[39;49m\u001b[39m.\u001b[39;49mget_obs())[::\u001b[39m-\u001b[39m\u001b[39m1\u001b[39m]\n\u001b[1;32m     68\u001b[0m step_rew \u001b[39m=\u001b[39m new_rew \u001b[39m-\u001b[39m ori_rew\n\u001b[1;32m     69\u001b[0m step_rew[step_rew \u001b[39m<\u001b[39m \u001b[39m0\u001b[39m] \u001b[39m=\u001b[39m \u001b[39m0\u001b[39m\n",
      "File \u001b[0;32m~/RL_mineSweeper/selenium2048.py:41\u001b[0m, in \u001b[0;36mSelenium2048.get_obs\u001b[0;34m(self)\u001b[0m\n\u001b[1;32m     39\u001b[0m pattern \u001b[39m=\u001b[39m \u001b[39mr\u001b[39m\u001b[39m\"\u001b[39m\u001b[39m\\\u001b[39m\u001b[39mb\u001b[39m\u001b[39m\\\u001b[39m\u001b[39md+\u001b[39m\u001b[39m\\\u001b[39m\u001b[39mb\u001b[39m\u001b[39m\"\u001b[39m\n\u001b[1;32m     40\u001b[0m \u001b[39mfor\u001b[39;00m tile \u001b[39min\u001b[39;00m tiles:\n\u001b[0;32m---> 41\u001b[0m     class_name \u001b[39m=\u001b[39m tile\u001b[39m.\u001b[39;49mget_attribute(\u001b[39m\"\u001b[39;49m\u001b[39mclass\u001b[39;49m\u001b[39m\"\u001b[39;49m)\n\u001b[1;32m     42\u001b[0m     matches \u001b[39m=\u001b[39m re\u001b[39m.\u001b[39mfindall(pattern, class_name)\n\u001b[1;32m     43\u001b[0m     \u001b[39mmap\u001b[39m[\u001b[39mint\u001b[39m(matches[\u001b[39m2\u001b[39m]) \u001b[39m-\u001b[39m \u001b[39m1\u001b[39m, \u001b[39mint\u001b[39m(matches[\u001b[39m1\u001b[39m]) \u001b[39m-\u001b[39m \u001b[39m1\u001b[39m] \u001b[39m=\u001b[39m \u001b[39mint\u001b[39m(matches[\u001b[39m0\u001b[39m])\n",
      "File \u001b[0;32m~/micromamba/envs/sb3/lib/python3.10/site-packages/selenium/webdriver/remote/webelement.py:177\u001b[0m, in \u001b[0;36mWebElement.get_attribute\u001b[0;34m(self, name)\u001b[0m\n\u001b[1;32m    175\u001b[0m \u001b[39mif\u001b[39;00m getAttribute_js \u001b[39mis\u001b[39;00m \u001b[39mNone\u001b[39;00m:\n\u001b[1;32m    176\u001b[0m     _load_js()\n\u001b[0;32m--> 177\u001b[0m attribute_value \u001b[39m=\u001b[39m \u001b[39mself\u001b[39;49m\u001b[39m.\u001b[39;49mparent\u001b[39m.\u001b[39;49mexecute_script(\n\u001b[1;32m    178\u001b[0m     \u001b[39mf\u001b[39;49m\u001b[39m\"\u001b[39;49m\u001b[39m/* getAttribute */return (\u001b[39;49m\u001b[39m{\u001b[39;49;00mgetAttribute_js\u001b[39m}\u001b[39;49;00m\u001b[39m).apply(null, arguments);\u001b[39;49m\u001b[39m\"\u001b[39;49m, \u001b[39mself\u001b[39;49m, name\n\u001b[1;32m    179\u001b[0m )\n\u001b[1;32m    180\u001b[0m \u001b[39mreturn\u001b[39;00m attribute_value\n",
      "File \u001b[0;32m~/micromamba/envs/sb3/lib/python3.10/site-packages/selenium/webdriver/remote/webdriver.py:404\u001b[0m, in \u001b[0;36mWebDriver.execute_script\u001b[0;34m(self, script, *args)\u001b[0m\n\u001b[1;32m    401\u001b[0m converted_args \u001b[39m=\u001b[39m \u001b[39mlist\u001b[39m(args)\n\u001b[1;32m    402\u001b[0m command \u001b[39m=\u001b[39m Command\u001b[39m.\u001b[39mW3C_EXECUTE_SCRIPT\n\u001b[0;32m--> 404\u001b[0m \u001b[39mreturn\u001b[39;00m \u001b[39mself\u001b[39;49m\u001b[39m.\u001b[39;49mexecute(command, {\u001b[39m\"\u001b[39;49m\u001b[39mscript\u001b[39;49m\u001b[39m\"\u001b[39;49m: script, \u001b[39m\"\u001b[39;49m\u001b[39margs\u001b[39;49m\u001b[39m\"\u001b[39;49m: converted_args})[\u001b[39m\"\u001b[39m\u001b[39mvalue\u001b[39m\u001b[39m\"\u001b[39m]\n",
      "File \u001b[0;32m~/micromamba/envs/sb3/lib/python3.10/site-packages/selenium/webdriver/remote/webdriver.py:344\u001b[0m, in \u001b[0;36mWebDriver.execute\u001b[0;34m(self, driver_command, params)\u001b[0m\n\u001b[1;32m    342\u001b[0m response \u001b[39m=\u001b[39m \u001b[39mself\u001b[39m\u001b[39m.\u001b[39mcommand_executor\u001b[39m.\u001b[39mexecute(driver_command, params)\n\u001b[1;32m    343\u001b[0m \u001b[39mif\u001b[39;00m response:\n\u001b[0;32m--> 344\u001b[0m     \u001b[39mself\u001b[39;49m\u001b[39m.\u001b[39;49merror_handler\u001b[39m.\u001b[39;49mcheck_response(response)\n\u001b[1;32m    345\u001b[0m     response[\u001b[39m\"\u001b[39m\u001b[39mvalue\u001b[39m\u001b[39m\"\u001b[39m] \u001b[39m=\u001b[39m \u001b[39mself\u001b[39m\u001b[39m.\u001b[39m_unwrap_value(response\u001b[39m.\u001b[39mget(\u001b[39m\"\u001b[39m\u001b[39mvalue\u001b[39m\u001b[39m\"\u001b[39m, \u001b[39mNone\u001b[39;00m))\n\u001b[1;32m    346\u001b[0m     \u001b[39mreturn\u001b[39;00m response\n",
      "File \u001b[0;32m~/micromamba/envs/sb3/lib/python3.10/site-packages/selenium/webdriver/remote/errorhandler.py:229\u001b[0m, in \u001b[0;36mErrorHandler.check_response\u001b[0;34m(self, response)\u001b[0m\n\u001b[1;32m    227\u001b[0m         alert_text \u001b[39m=\u001b[39m value[\u001b[39m\"\u001b[39m\u001b[39malert\u001b[39m\u001b[39m\"\u001b[39m]\u001b[39m.\u001b[39mget(\u001b[39m\"\u001b[39m\u001b[39mtext\u001b[39m\u001b[39m\"\u001b[39m)\n\u001b[1;32m    228\u001b[0m     \u001b[39mraise\u001b[39;00m exception_class(message, screen, stacktrace, alert_text)  \u001b[39m# type: ignore[call-arg]  # mypy is not smart enough here\u001b[39;00m\n\u001b[0;32m--> 229\u001b[0m \u001b[39mraise\u001b[39;00m exception_class(message, screen, stacktrace)\n",
      "\u001b[0;31mStaleElementReferenceException\u001b[0m: Message: stale element reference: stale element not found\n  (Session info: chrome=119.0.6045.105); For documentation on this error, please visit: https://www.selenium.dev/documentation/webdriver/troubleshooting/errors#stale-element-reference-exception\nStacktrace:\n#0 0x55bd5d8155e3 <unknown>\n#1 0x55bd5d4d80b7 <unknown>\n#2 0x55bd5d4de2b5 <unknown>\n#3 0x55bd5d4e09b1 <unknown>\n#4 0x55bd5d56971f <unknown>\n#5 0x55bd5d54cef2 <unknown>\n#6 0x55bd5d568b3d <unknown>\n#7 0x55bd5d54ccc3 <unknown>\n#8 0x55bd5d5180e4 <unknown>\n#9 0x55bd5d5190ae <unknown>\n#10 0x55bd5d7dbce1 <unknown>\n#11 0x55bd5d7dfb7e <unknown>\n#12 0x55bd5d7c94b5 <unknown>\n#13 0x55bd5d7e07d6 <unknown>\n#14 0x55bd5d7acdbf <unknown>\n#15 0x55bd5d803748 <unknown>\n#16 0x55bd5d803917 <unknown>\n#17 0x55bd5d814773 <unknown>\n#18 0x7f9947f2c9eb <unknown>\n"
     ]
    }
   ],
   "source": [
    "model = MaskablePPO.load(\"./model/2048_6.pkl\")\n",
    "for i in range(10):\n",
    "    state, _ = env.reset()\n",
    "    done = False\n",
    "    score = 0\n",
    "    while not done:\n",
    "        action, _ = model.predict(observation=state)\n",
    "        while not env.action_masks()[action] and env.action_masks().sum():\n",
    "            action, _ = model.predict(observation=state)\n",
    "\n",
    "        state, reward, done, _, info = env.step(action)\n",
    "        score += reward\n",
    "    print(env.map)"
   ]
  }
 ],
 "metadata": {
  "kernelspec": {
   "display_name": "Python 3",
   "language": "python",
   "name": "python3"
  },
  "language_info": {
   "codemirror_mode": {
    "name": "ipython",
    "version": 3
   },
   "file_extension": ".py",
   "mimetype": "text/x-python",
   "name": "python",
   "nbconvert_exporter": "python",
   "pygments_lexer": "ipython3",
   "version": "3.10.12"
  }
 },
 "nbformat": 4,
 "nbformat_minor": 2
}
