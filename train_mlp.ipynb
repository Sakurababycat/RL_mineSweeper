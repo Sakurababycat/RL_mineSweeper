{
 "cells": [
  {
   "cell_type": "code",
   "execution_count": null,
   "metadata": {},
   "outputs": [],
   "source": [
    "from mineSweeper import MinesweeperEnv\n",
    "from stable_baselines3 import DQN\n",
    "from stable_baselines3.common.vec_env.dummy_vec_env import DummyVecEnv\n",
    "from stable_baselines3.common.vec_env import SubprocVecEnv\n",
    "from stable_baselines3.common.evaluation import evaluate_policy\n",
    "from stable_baselines3.common.monitor import Monitor\n",
    "from sb3_contrib import MaskablePPO\n",
    "from sb3_contrib.common.wrappers import ActionMasker\n",
    "import numpy as np\n",
    "\n",
    "def linear_schedule(initial_value, final_value=0.0):\n",
    "\n",
    "    if isinstance(initial_value, str):\n",
    "        initial_value = float(initial_value)\n",
    "        final_value = float(final_value)\n",
    "        assert (initial_value > 0.0)\n",
    "\n",
    "    def scheduler(progress):\n",
    "        return final_value + progress * (initial_value - final_value)\n",
    "\n",
    "    return scheduler\n",
    "\n",
    "NUM_ENVS = 32\n",
    "make_env = lambda seed=None: Monitor(MinesweeperEnv(9, 9, 9, seed=seed), info_keywords=(\"is_success\",))\n",
    "# env = SubprocVecEnv([make_env(seed=s) for s in np.random.randint(1,1e9, NUM_ENVS)])\n",
    "env = DummyVecEnv([make_env])\n",
    "# env = ActionMasker(env, MinesweeperEnv.get_action_mask)\n",
    "lr_schedule = linear_schedule(2.5e-4, 2.5e-6)\n",
    "clip_range_schedule = linear_schedule(0.15, 0.025)\n",
    "if True:\n",
    "    model = MaskablePPO(\n",
    "        \"MlpPolicy\", \n",
    "        env=env, \n",
    "        batch_size=2048,\n",
    "        policy_kwargs={\"net_arch\" : [256, 512, 1024, 2048, 2048, 1024, 512, 256]},\n",
    "        verbose=1,\n",
    "        tensorboard_log=\"./tensorboard/\",\n",
    "        learning_rate=lr_schedule,\n",
    "        clip_range=clip_range_schedule,\n",
    "        device='cuda',\n",
    "    )\n",
    "else:\n",
    "    model = MaskablePPO.load(\"./model/mlp.pkl\", env=env)\n",
    "model.learn(total_timesteps=1e7)\n"
   ]
  },
  {
   "cell_type": "code",
   "execution_count": null,
   "metadata": {},
   "outputs": [],
   "source": [
    "model.save(\"./model/mlp.pkl\")"
   ]
  },
  {
   "cell_type": "code",
   "execution_count": null,
   "metadata": {},
   "outputs": [],
   "source": [
    "mean_reward, std_reward = evaluate_policy(model, env, n_eval_episodes=100)\n",
    "env.close()\n",
    "mean_reward, std_reward"
   ]
  }
 ],
 "metadata": {
  "kernelspec": {
   "display_name": "selenium",
   "language": "python",
   "name": "python3"
  },
  "language_info": {
   "codemirror_mode": {
    "name": "ipython",
    "version": 3
   },
   "file_extension": ".py",
   "mimetype": "text/x-python",
   "name": "python",
   "nbconvert_exporter": "python",
   "pygments_lexer": "ipython3",
   "version": "3.10.13"
  },
  "orig_nbformat": 4
 },
 "nbformat": 4,
 "nbformat_minor": 2
}
