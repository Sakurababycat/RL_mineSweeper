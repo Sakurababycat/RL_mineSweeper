{
 "cells": [
  {
   "cell_type": "code",
   "execution_count": 9,
   "metadata": {},
   "outputs": [],
   "source": [
    "from selenium import webdriver\n",
    "from selenium.webdriver.common.by import By\n",
    "import re\n",
    "import numpy as np\n",
    "\n",
    "ch_options = webdriver.ChromeOptions()\n",
    "\n",
    "#为Chrome配置无头模式\n",
    "# ch_options.add_argument(\"--headless\")  \n",
    "# ch_options.add_argument('--no-sandbox')\n",
    "# ch_options.add_argument('--disable-gpu')\n",
    "# ch_options.add_argument('--disable-dev-shm-usage')\n",
    "ch_options.add_argument(\"--mute-audio\")\n",
    "\n",
    "dr = webdriver.Chrome(options=ch_options)\n",
    "dr.set_window_size(800, 1200)\n",
    "\n",
    "url = \"http://www.2048123.com/\"\n",
    "dr.get(url)"
   ]
  },
  {
   "cell_type": "code",
   "execution_count": 38,
   "metadata": {},
   "outputs": [
    {
     "data": {
      "text/plain": [
       "array([[ 0.,  0.,  0.,  0.],\n",
       "       [ 8.,  4.,  2.,  0.],\n",
       "       [ 8., 16.,  4.,  0.],\n",
       "       [16.,  4.,  2.,  0.]])"
      ]
     },
     "execution_count": 38,
     "metadata": {},
     "output_type": "execute_result"
    }
   ],
   "source": [
    "tiles = dr.find_element(by=By.CLASS_NAME, value=r'tile-container').find_elements(by=By.XPATH, value=\"./div\")\n",
    "\n",
    "map = np.zeros((4, 4))\n",
    "pattern = r'\\b\\d+\\b'\n",
    "for tile in tiles:\n",
    "    class_name = tile.get_attribute('class')\n",
    "    matches = re.findall(pattern, class_name)\n",
    "    map[int(matches[2]) - 1, int(matches[1]) - 1] = int(matches[0])\n",
    "map"
   ]
  }
 ],
 "metadata": {
  "kernelspec": {
   "display_name": "Python 3",
   "language": "python",
   "name": "python3"
  },
  "language_info": {
   "codemirror_mode": {
    "name": "ipython",
    "version": 3
   },
   "file_extension": ".py",
   "mimetype": "text/x-python",
   "name": "python",
   "nbconvert_exporter": "python",
   "pygments_lexer": "ipython3",
   "version": "3.10.12"
  }
 },
 "nbformat": 4,
 "nbformat_minor": 2
}
